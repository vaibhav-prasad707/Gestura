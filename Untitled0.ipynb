{
  "nbformat": 4,
  "nbformat_minor": 0,
  "metadata": {
    "colab": {
      "provenance": [],
      "authorship_tag": "ABX9TyO012U9DHA5HVMy5dgFCEHP",
      "include_colab_link": true
    },
    "kernelspec": {
      "name": "python3",
      "display_name": "Python 3"
    },
    "language_info": {
      "name": "python"
    }
  },
  "cells": [
    {
      "cell_type": "markdown",
      "metadata": {
        "id": "view-in-github",
        "colab_type": "text"
      },
      "source": [
        "<a href=\"https://colab.research.google.com/github/vaibhav-prasad707/Gestura/blob/main/Untitled0.ipynb\" target=\"_parent\"><img src=\"https://colab.research.google.com/assets/colab-badge.svg\" alt=\"Open In Colab\"/></a>"
      ]
    },
    {
      "cell_type": "code",
      "execution_count": null,
      "metadata": {
        "id": "c44dSNl-okrW"
      },
      "outputs": [],
      "source": [
        "pip install SpeechRecognition pyttsx3 pyaudio"
      ]
    },
    {
      "cell_type": "code",
      "source": [
        "import speech_recognition as sr\n",
        "\n",
        "def listen():\n",
        "    r = sr.Recognizer()\n",
        "    with sr.Microphone() as source:\n",
        "        print(\"Listening...\")\n",
        "        audio = r.listen(source)\n",
        "    try:\n",
        "        text = r.recognize_google(audio)  # Use Google's free API (requires internet)\n",
        "        print(f\"You said: {text}\")\n",
        "        return text.lower()\n",
        "    except sr.UnknownValueError:\n",
        "        return \"error\"\n",
        "    except sr.RequestError:\n",
        "        return \"error\""
      ],
      "metadata": {
        "id": "5BLTxRvKosnE"
      },
      "execution_count": null,
      "outputs": []
    },
    {
      "cell_type": "code",
      "source": [
        "def handle_command(command):\n",
        "    if \"send message\" in command:\n",
        "        # Extract the message after the keyword\n",
        "        message = command.split(\"send message\")[-1].strip()\n",
        "        print(f\"Sending message: {message}\")\n",
        "        # Integrate with your chat app's API here (e.g., Slack/Discord API)\n",
        "    elif \"open chat\" in command:\n",
        "        contact = command.split(\"open chat\")[-1].strip()\n",
        "        print(f\"Opening chat with {contact}\")\n",
        "    elif \"exit\" in command:\n",
        "        print(\"Exiting...\")\n",
        "        exit()\n",
        "    else:\n",
        "        print(\"Command not recognized.\")"
      ],
      "metadata": {
        "id": "3GXutJHoov2s"
      },
      "execution_count": null,
      "outputs": []
    },
    {
      "cell_type": "code",
      "source": [
        "import pyttsx3\n",
        "\n",
        "def speak(text):\n",
        "    engine = pyttsx3.init()\n",
        "    engine.say(text)\n",
        "    engine.runAndWait()"
      ],
      "metadata": {
        "id": "JWl2_Tc-owfs"
      },
      "execution_count": null,
      "outputs": []
    },
    {
      "cell_type": "code",
      "source": [
        "if __name__ == \"__main__\":\n",
        "    speak(\"Voice control activated. How can I help?\")\n",
        "    while True:\n",
        "        command = listen()\n",
        "        if command == \"error\":\n",
        "            speak(\"Sorry, I didn’t understand.\")\n",
        "        else:\n",
        "            handle_command(command)"
      ],
      "metadata": {
        "id": "MzaXbUc7oyF4"
      },
      "execution_count": null,
      "outputs": []
    },
    {
      "cell_type": "code",
      "source": [
        "import tkinter as tk\n",
        "from tkinter import scrolledtext\n",
        "\n",
        "class ChatApp:\n",
        "    def __init__(self):\n",
        "        self.root = tk.Tk()\n",
        "        self.chat_area = scrolledtext.ScrolledText(self.root)\n",
        "        self.chat_area.pack()\n",
        "        self.entry = tk.Entry(self.root)\n",
        "        self.entry.pack()\n",
        "        self.send_button = tk.Button(self.root, text=\"Send\", command=self.send_message)\n",
        "        self.send_button.pack()\n",
        "\n",
        "    def send_message(self, message=None):\n",
        "        if not message:\n",
        "            message = self.entry.get()\n",
        "        self.chat_area.insert(tk.END, f\"You: {message}\\n\")\n",
        "        self.entry.delete(0, tk.END)\n",
        "\n",
        "# Modify handle_command to interact with the GUI\n",
        "def handle_command(command, app):\n",
        "    if \"send message\" in command:\n",
        "        message = command.split(\"send message\")[-1].strip()\n",
        "        app.send_message(message)\n",
        "    elif \"type\" in command:\n",
        "        message = command.split(\"type\")[-1].strip()\n",
        "        app.entry.insert(tk.END, message)\n",
        "    # Add more commands...\n",
        "\n",
        "# Update the main loop\n",
        "if __name__ == \"__main__\":\n",
        "    app = ChatApp()\n",
        "    speak(\"Voice control activated.\")\n",
        "    while True:\n",
        "        command = listen()\n",
        "        handle_command(command, app)\n",
        "        app.root.update()  # Refresh the GUI"
      ],
      "metadata": {
        "id": "w8_u5zCpo0f8"
      },
      "execution_count": null,
      "outputs": []
    },
    {
      "cell_type": "code",
      "source": [
        "pip install pocketsphinx"
      ],
      "metadata": {
        "id": "L8IVj0FHo2aP"
      },
      "execution_count": null,
      "outputs": []
    },
    {
      "cell_type": "code",
      "source": [
        "def listen():\n",
        "    r = sr.Recognizer()\n",
        "    with sr.Microphone() as source:\n",
        "        audio = r.listen(source)\n",
        "    try:\n",
        "        text = r.recognize_sphinx(audio)  # Offline\n",
        "        return text.lower()\n",
        "    except:\n",
        "        return \"error\""
      ],
      "metadata": {
        "id": "O9O_7-DTo4J0"
      },
      "execution_count": null,
      "outputs": []
    },
    {
      "cell_type": "code",
      "source": [
        "def handle_command(command, app):\n",
        "    # Existing commands (sending messages)\n",
        "    if \"send message\" in command:\n",
        "        message = command.split(\"send message\")[-1].strip()\n",
        "        app.send_message(message)\n",
        "\n",
        "    # New navigation commands\n",
        "    elif \"go to settings\" in command:\n",
        "        app.navigate_to_settings()  # Assume this method exists\n",
        "    elif \"scroll up\" in command:\n",
        "        app.chat_area.yview_scroll(-1, \"units\")  # For Tkinter GUI\n",
        "    elif \"scroll down\" in command:\n",
        "        app.chat_area.yview_scroll(1, \"units\")\n",
        "    elif \"open notifications\" in command:\n",
        "        app.show_notifications()\n",
        "    else:\n",
        "        print(\"Command not recognized.\")"
      ],
      "metadata": {
        "id": "bMvR9l5Ho6ZI"
      },
      "execution_count": null,
      "outputs": []
    },
    {
      "cell_type": "code",
      "source": [
        "class ChatApp:\n",
        "    def __init__(self):\n",
        "        # ... existing code ...\n",
        "        self.settings_button = tk.Button(self.root, text=\"Settings\")\n",
        "        self.settings_button.pack()\n",
        "\n",
        "    def navigate_to_settings(self):\n",
        "        self.settings_button.invoke()  # Simulate a button click\n",
        "        speak(\"Opening settings.\")\n",
        "\n",
        "    def show_notifications(self):\n",
        "        # Example: Switch to a notifications frame\n",
        "        self.notifications_frame.tkraise()"
      ],
      "metadata": {
        "id": "2iepA_qko74I"
      },
      "execution_count": null,
      "outputs": []
    },
    {
      "cell_type": "code",
      "source": [
        "pip install pyautogui"
      ],
      "metadata": {
        "id": "VuRZ9wlYo8iX"
      },
      "execution_count": null,
      "outputs": []
    },
    {
      "cell_type": "code",
      "source": [
        "import pyautogui\n",
        "\n",
        "def handle_command(command):\n",
        "    if \"click send button\" in command:\n",
        "        # Locate the send button on screen (requires pre-knowledge of coordinates)\n",
        "        pyautogui.click(x=100, y=200)  # Replace with actual coordinates\n",
        "    elif \"press escape\" in command:\n",
        "        pyautogui.press('esc')  # Close a menu"
      ],
      "metadata": {
        "id": "AK9sRa77o_9K"
      },
      "execution_count": null,
      "outputs": []
    },
    {
      "cell_type": "code",
      "source": [
        "def handle_command(command, app):\n",
        "    if \"scroll to top\" in command:\n",
        "        app.chat_area.yview_moveto(0)  # 0 = top, 1 = bottom\n",
        "    elif \"scroll to bottom\" in command:\n",
        "        app.chat_area.yview_moveto(1)"
      ],
      "metadata": {
        "id": "MgaAiVGupBMM"
      },
      "execution_count": null,
      "outputs": []
    },
    {
      "cell_type": "code",
      "source": [
        "import tkinter as tk\n",
        "from tkinter import ttk, scrolledtext\n",
        "import speech_recognition as sr\n",
        "import pyttsx3\n",
        "\n",
        "class VoiceControlledChatApp:\n",
        "    def __init__(self):\n",
        "        self.root = tk.Tk()\n",
        "        self.root.title(\"Voice-Controlled Chat\")\n",
        "\n",
        "        # Chat area\n",
        "        self.chat_area = scrolledtext.ScrolledText(self.root)\n",
        "        self.chat_area.pack()\n",
        "\n",
        "        # Navigation buttons\n",
        "        self.settings_button = ttk.Button(self.root, text=\"Settings\", command=self.open_settings)\n",
        "        self.settings_button.pack()\n",
        "\n",
        "        # Start voice control\n",
        "        self.engine = pyttsx3.init()\n",
        "        self.listener = sr.Recognizer()\n",
        "        self.start_listening()\n",
        "\n",
        "    def open_settings(self):\n",
        "        self.chat_area.insert(tk.END, \"Settings opened.\\n\")\n",
        "\n",
        "    def speak(self, text):\n",
        "        self.engine.say(text)\n",
        "        self.engine.runAndWait()\n",
        "\n",
        "    def listen(self):\n",
        "        with sr.Microphone() as source:\n",
        "            audio = self.listener.listen(source)\n",
        "        try:\n",
        "            return self.listener.recognize_google(audio).lower()\n",
        "        except:\n",
        "            return \"error\"\n",
        "\n",
        "    def handle_command(self):\n",
        "        command = self.listen()\n",
        "        if \"go to settings\" in command:\n",
        "            self.settings_button.invoke()\n",
        "        elif \"scroll up\" in command:\n",
        "            self.chat_area.yview_scroll(-1, \"units\")\n",
        "        elif \"scroll down\" in command:\n",
        "            self.chat_area.yview_scroll(1, \"units\")\n",
        "        else:\n",
        "            self.speak(\"Command not recognized.\")\n",
        "        self.root.after(100, self.handle_command)  # Continuously listen\n",
        "\n",
        "    def start_listening(self):\n",
        "        self.speak(\"Voice control activated.\")\n",
        "        self.root.after(100, self.handle_command)\n",
        "        self.root.mainloop()\n",
        "\n",
        "if __name__ == \"__main__\":\n",
        "    app = VoiceControlledChatApp()"
      ],
      "metadata": {
        "id": "26Yr_7GQpDGH"
      },
      "execution_count": null,
      "outputs": []
    }
  ]
}